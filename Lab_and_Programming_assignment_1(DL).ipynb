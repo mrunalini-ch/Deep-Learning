{
  "nbformat": 4,
  "nbformat_minor": 0,
  "metadata": {
    "colab": {
      "provenance": [],
      "authorship_tag": "ABX9TyNSCj4L59yc9eo/CqYA6qrE",
      "include_colab_link": true
    },
    "kernelspec": {
      "name": "python3",
      "display_name": "Python 3"
    },
    "language_info": {
      "name": "python"
    }
  },
  "cells": [
    {
      "cell_type": "markdown",
      "metadata": {
        "id": "view-in-github",
        "colab_type": "text"
      },
      "source": [
        "<a href=\"https://colab.research.google.com/github/mrunalini-ch/Deep-Learning/blob/main/Lab_and_Programming_assignment_1(DL).ipynb\" target=\"_parent\"><img src=\"https://colab.research.google.com/assets/colab-badge.svg\" alt=\"Open In Colab\"/></a>"
      ]
    },
    {
      "cell_type": "markdown",
      "source": [
        "**Lab 1 (30/12/24)**\n",
        "\n",
        "***Implement a perceptron for binary classification(AND gate)***\n",
        "\n",
        "**key features:**\n",
        "1. includes step_function for activation\n",
        "2. implementa a perceptron class with methods for prediction and training.\n",
        "3. uses random initialization for weights and bias.\n",
        "4. Trains the perceptron using sample data for ANd gate.\n",
        "5. Outuputs test predictions"
      ],
      "metadata": {
        "id": "7cjfV5c0IZ3r"
      }
    },
    {
      "cell_type": "code",
      "execution_count": null,
      "metadata": {
        "colab": {
          "base_uri": "https://localhost:8080/"
        },
        "id": "xESbsbK1HNwM",
        "outputId": "4326cf4c-f02b-424b-b07d-e1747da73753"
      },
      "outputs": [
        {
          "output_type": "stream",
          "name": "stdout",
          "text": [
            "Test predictions: \n",
            "Input: [0 0], Prediction: 0\n",
            "Input: [0 1], Prediction: 0\n",
            "Input: [1 0], Prediction: 0\n",
            "Input: [1 1], Prediction: 1\n"
          ]
        }
      ],
      "source": [
        "import numpy as np\n",
        "\n",
        "# Activation function (step function)\n",
        "def step_function(x):\n",
        "    return 1 if x >= 0 else 0\n",
        "\n",
        "# Perceptron class\n",
        "class Perceptron:\n",
        "    def __init__(self, input_size, learning_rate=0.1):\n",
        "        self.weights = np.random.randn(input_size)\n",
        "        self.bias = np.random.randn()\n",
        "        self.learning_rate = learning_rate\n",
        "\n",
        "    def predict(self, inputs):\n",
        "        summation = np.dot(inputs, self.weights) + self.bias\n",
        "        return step_function(summation)\n",
        "\n",
        "    def train(self, inputs, labels, epochs=100):\n",
        "        for _ in range(epochs):\n",
        "            for input_vector, label in zip(inputs, labels):\n",
        "                prediction = self.predict(input_vector)\n",
        "                error = label - prediction\n",
        "                # Update weights and bias\n",
        "                self.weights += self.learning_rate * error * input_vector\n",
        "                self.bias += self.learning_rate * error\n",
        "\n",
        "# Sample data for binary classification (AND gate)\n",
        "inputs = np.array([[0, 0], [0, 1], [1, 0], [1, 1]])\n",
        "labels = np.array([0, 0, 0, 1])  # AND gate output\n",
        "\n",
        "# Create and train the perceptron\n",
        "perceptron = Perceptron(input_size=2)\n",
        "perceptron.train(inputs, labels)\n",
        "\n",
        "# Test the perceptron\n",
        "print(\"Test predictions: \")\n",
        "for input_vector in inputs:\n",
        "    prediction = perceptron.predict(input_vector)\n",
        "    print(f\"Input: {input_vector}, Prediction: {prediction}\")"
      ]
    },
    {
      "cell_type": "markdown",
      "source": [
        "***Test the perceptron with a different dataset (OR gate)***\n",
        "\n",
        "**key features:**\n",
        "1. reuses the perceptron class\n",
        "2. trains and evaluates the perceptron on sample ata for an OR gate.\n",
        "3. Outputs predictions for each input.\n"
      ],
      "metadata": {
        "id": "-cVgn3sHKplB"
      }
    },
    {
      "cell_type": "code",
      "source": [
        "# Sample data for binary classification (OR gate)\n",
        "inputs = np.array([[0, 0], [0, 1], [1, 0], [1, 1]])\n",
        "labels = np.array([0, 1, 1, 1])  # OR gate output\n",
        "\n",
        "# Create and train the perceptron\n",
        "perceptron = Perceptron(input_size=2)\n",
        "perceptron.train(inputs, labels)\n",
        "\n",
        "# Test the perceptron\n",
        "print(\"Test predictions: \")\n",
        "for input_vector in inputs:\n",
        "    prediction = perceptron.predict(input_vector)\n",
        "    print(f\"Input: {input_vector}, Prediction: {prediction}\")"
      ],
      "metadata": {
        "colab": {
          "base_uri": "https://localhost:8080/"
        },
        "id": "Lf7BuFKtLES5",
        "outputId": "6a25b1a8-535f-47e4-f330-7525c97c8773"
      },
      "execution_count": null,
      "outputs": [
        {
          "output_type": "stream",
          "name": "stdout",
          "text": [
            "Test predictions: \n",
            "Input: [0 0], Prediction: 0\n",
            "Input: [0 1], Prediction: 1\n",
            "Input: [1 0], Prediction: 1\n",
            "Input: [1 1], Prediction: 1\n"
          ]
        }
      ]
    },
    {
      "cell_type": "markdown",
      "source": [
        "Train on iris dataset\n",
        "\n",
        "**key features:**\n",
        "1. Load the iris data set and select binary target labels\n",
        "2. Splits the data set into training and testing sets\n",
        "3. Implements and trains a perceptron using custom logic\n",
        "4. Evaluates the perceptron and princess accuracy"
      ],
      "metadata": {
        "id": "Q9cA2RqMLNEh"
      }
    },
    {
      "cell_type": "code",
      "source": [
        "from sklearn.datasets import load_iris\n",
        "from sklearn.model_selection import train_test_split\n",
        "from sklearn.metrics import accuracy_score\n",
        "import numpy as np\n",
        "\n",
        "# Load the Iris dataset\n",
        "iris = load_iris()\n",
        "\n",
        "# Select features and labels\n",
        "X = iris.data[:, (0, 1)]  # Sepal length, sepal width\n",
        "y = (iris.target == 0).astype(int)  # Binary target: 1 if class 0, else 0\n",
        "\n",
        "# Split the dataset\n",
        "X_train, X_test, y_train, y_test = train_test_split(X, y, test_size=0.5, random_state=42)\n",
        "\n",
        "# Perceptron class\n",
        "class Perceptron:\n",
        "    def __init__(self, learning_rate, epochs):\n",
        "        self.weights = None\n",
        "        self.bias = None\n",
        "        self.learning_rate = learning_rate\n",
        "        self.epochs = epochs\n",
        "\n",
        "    # Heaviside activation function\n",
        "    def activation(self, z):\n",
        "        return np.heaviside(z, 0).astype(int)  # Ensure integer output\n",
        "\n",
        "    def fit(self, X, y):\n",
        "        n_features = X.shape[1]\n",
        "\n",
        "        # Initialize weights and bias\n",
        "        self.weights = np.zeros(n_features)\n",
        "        self.bias = 0\n",
        "\n",
        "        # Iterate for the number of epochs\n",
        "        for epoch in range(self.epochs):\n",
        "            # Loop through the training set\n",
        "            for i in range(len(X)):\n",
        "                z = np.dot(X[i], self.weights) + self.bias  # Dot product for one sample\n",
        "                y_pred = self.activation(z)  # Pass through activation function\n",
        "\n",
        "                # Update weights and bias\n",
        "                self.weights += self.learning_rate * (y[i] - y_pred) * X[i]\n",
        "                self.bias += self.learning_rate * (y[i] - y_pred)\n",
        "\n",
        "    def predict(self, X):\n",
        "        z = np.dot(X, self.weights) + self.bias  # Dot product for all samples\n",
        "        return self.activation(z)\n",
        "\n",
        "# Create a Perceptron instance\n",
        "perceptron = Perceptron(learning_rate=0.001, epochs=100)\n",
        "\n",
        "# Train the Perceptron\n",
        "perceptron.fit(X_train, y_train)\n",
        "\n",
        "# Make predictions\n",
        "pred = perceptron.predict(X_test)\n",
        "\n",
        "# Evaluate accuracy\n",
        "accuracy = accuracy_score(y_test, pred)\n",
        "print(f\"Accuracy: {accuracy:.2f}\")"
      ],
      "metadata": {
        "colab": {
          "base_uri": "https://localhost:8080/"
        },
        "id": "jkJTOKOPLgLo",
        "outputId": "9cd2a6b8-29f9-4f0d-a9b7-3d31a3671a2a"
      },
      "execution_count": null,
      "outputs": [
        {
          "output_type": "stream",
          "name": "stdout",
          "text": [
            "Accuracy: 0.96\n"
          ]
        }
      ]
    },
    {
      "cell_type": "markdown",
      "source": [
        "**PROGRAMMING ASSIGNMENT-1**\n",
        "\n",
        "**Step 1:** Select a simple and publicly available data sed for binary classification(ex: Titanic dataset), load the dataset.\n",
        "\n",
        "**key features:**\n",
        "1. Load the data set from Github or Kaggle\n",
        "2. Display the first five rows of the  Dataset\n",
        "3. provide information about data set columns and types"
      ],
      "metadata": {
        "id": "_hcQ7hmELvPj"
      }
    },
    {
      "cell_type": "code",
      "source": [
        "# Load the Titanic dataset\n",
        "import pandas as pd\n",
        "url = \"https://raw.githubusercontent.com/datasciencedojo/datasets/master/titanic.csv\"\n",
        "data = pd.read_csv(url)\n",
        "print(data.head())  # Display the first 5 rows of the dataset\n",
        "print(data.info())"
      ],
      "metadata": {
        "colab": {
          "base_uri": "https://localhost:8080/"
        },
        "id": "g0yIOkqOLuEQ",
        "outputId": "9273fdda-d4b1-42ad-f4ff-fa9364bd5f05"
      },
      "execution_count": null,
      "outputs": [
        {
          "output_type": "stream",
          "name": "stdout",
          "text": [
            "   PassengerId  Survived  Pclass  \\\n",
            "0            1         0       3   \n",
            "1            2         1       1   \n",
            "2            3         1       3   \n",
            "3            4         1       1   \n",
            "4            5         0       3   \n",
            "\n",
            "                                                Name     Sex   Age  SibSp  \\\n",
            "0                            Braund, Mr. Owen Harris    male  22.0      1   \n",
            "1  Cumings, Mrs. John Bradley (Florence Briggs Th...  female  38.0      1   \n",
            "2                             Heikkinen, Miss. Laina  female  26.0      0   \n",
            "3       Futrelle, Mrs. Jacques Heath (Lily May Peel)  female  35.0      1   \n",
            "4                           Allen, Mr. William Henry    male  35.0      0   \n",
            "\n",
            "   Parch            Ticket     Fare Cabin Embarked  \n",
            "0      0         A/5 21171   7.2500   NaN        S  \n",
            "1      0          PC 17599  71.2833   C85        C  \n",
            "2      0  STON/O2. 3101282   7.9250   NaN        S  \n",
            "3      0            113803  53.1000  C123        S  \n",
            "4      0            373450   8.0500   NaN        S  \n",
            "<class 'pandas.core.frame.DataFrame'>\n",
            "RangeIndex: 891 entries, 0 to 890\n",
            "Data columns (total 12 columns):\n",
            " #   Column       Non-Null Count  Dtype  \n",
            "---  ------       --------------  -----  \n",
            " 0   PassengerId  891 non-null    int64  \n",
            " 1   Survived     891 non-null    int64  \n",
            " 2   Pclass       891 non-null    int64  \n",
            " 3   Name         891 non-null    object \n",
            " 4   Sex          891 non-null    object \n",
            " 5   Age          714 non-null    float64\n",
            " 6   SibSp        891 non-null    int64  \n",
            " 7   Parch        891 non-null    int64  \n",
            " 8   Ticket       891 non-null    object \n",
            " 9   Fare         891 non-null    float64\n",
            " 10  Cabin        204 non-null    object \n",
            " 11  Embarked     889 non-null    object \n",
            "dtypes: float64(2), int64(5), object(5)\n",
            "memory usage: 83.7+ KB\n",
            "None\n"
          ]
        }
      ]
    },
    {
      "cell_type": "markdown",
      "source": [
        "**Step 2:** install necessary libraries"
      ],
      "metadata": {
        "id": "1aquC9KgMuoX"
      }
    },
    {
      "cell_type": "code",
      "source": [
        "import numpy as np\n",
        "import pandas as pd\n",
        "import matplotlib.pyplot as plt\n",
        "from sklearn.model_selection import train_test_split\n",
        "from sklearn.metrics import accuracy_score"
      ],
      "metadata": {
        "id": "wrv4Hvg9MuKT"
      },
      "execution_count": null,
      "outputs": []
    },
    {
      "cell_type": "markdown",
      "source": [
        "**Step 3:** preprocess the dataset\n",
        "\n",
        "key features:\n",
        "1. Retains relevant columns in (Pclass, sex, age, fare, survived)\n",
        "2. Handles missing values in the age column by filling them with the mean\n",
        "3. Convert to  categorical sex column to numerical format\n",
        "4. splits the data into features (X) and target (y) for training and testing"
      ],
      "metadata": {
        "id": "8TsSEx1nM3CD"
      }
    },
    {
      "cell_type": "code",
      "source": [
        "# Preprocessing: Keep relevant columns and create a copy\n",
        "data = data[['Pclass', 'Sex', 'Age', 'Fare', 'Survived']].copy()\n",
        "\n",
        "# Handle missing values\n",
        "data['Age'] = data['Age'].fillna(data['Age'].mean())\n",
        "\n",
        "# Convert categorical column 'Sex' to numerical\n",
        "data['Sex'] = data['Sex'].map({'male': 0, 'female': 1})\n",
        "\n",
        "# Features (X) and target (y)\n",
        "X = data[['Pclass', 'Sex', 'Age', 'Fare']].values\n",
        "y = data['Survived'].values\n",
        "\n",
        "# Split the data\n",
        "X_train, X_test, y_train, y_test = train_test_split(X, y, test_size=0.2, random_state=42)"
      ],
      "metadata": {
        "id": "ukSA7jKKNZ1j"
      },
      "execution_count": null,
      "outputs": []
    },
    {
      "cell_type": "markdown",
      "source": [
        "**Step 4:** New step activation function to implement the perceptron model\n",
        "\n",
        "key features:\n",
        "1. Implements the perceptron with custom training logic\n",
        "2. Uses the Titanic data set for binary classification"
      ],
      "metadata": {
        "id": "Hl1-RSQ8Njat"
      }
    },
    {
      "cell_type": "code",
      "source": [
        "# Step activation function\n",
        "def step_function(z):\n",
        "    return np.where(z > 0, 1, 0)\n",
        "\n",
        "# Perceptron class\n",
        "class Perceptron:\n",
        "    def __init__(self, learning_rate=0.01, epochs=1000):\n",
        "        self.learning_rate = learning_rate\n",
        "        self.epochs = epochs\n",
        "\n",
        "    def fit(self, X, y):\n",
        "        self.weights = np.zeros(X.shape[1])\n",
        "        self.bias = 0\n",
        "        self.errors = []\n",
        "\n",
        "        for _ in range(self.epochs):\n",
        "            error_count = 0\n",
        "            for xi, target in zip(X, y):\n",
        "                z = np.dot(xi, self.weights) + self.bias\n",
        "                prediction = step_function(z)\n",
        "                error = target - prediction\n",
        "                if error != 0:\n",
        "                    self.weights += self.learning_rate * error * xi\n",
        "                    self.bias += self.learning_rate * error\n",
        "                    error_count += 1\n",
        "            self.errors.append(error_count)\n",
        "\n",
        "    def predict(self, X):\n",
        "        z = np.dot(X, self.weights) + self.bias\n",
        "        return step_function(z)\n",
        "\n",
        "# Initialize and train the perceptron\n",
        "model = Perceptron(learning_rate=0.01, epochs=1000)\n",
        "model.fit(X_train, y_train)\n",
        "\n",
        "# Predictions\n",
        "y_pred_manual = model.predict(X_test)\n",
        "print(\"Perceptron Accuracy:\", accuracy_score(y_test, y_pred_manual))\n"
      ],
      "metadata": {
        "colab": {
          "base_uri": "https://localhost:8080/"
        },
        "id": "ETccdQ1ENfqS",
        "outputId": "798ddb2e-7faf-456b-9670-921e648f0e92"
      },
      "execution_count": null,
      "outputs": [
        {
          "output_type": "stream",
          "name": "stdout",
          "text": [
            "Perceptron Accuracy: 0.7877094972067039\n"
          ]
        }
      ]
    },
    {
      "cell_type": "markdown",
      "source": [
        "**Step5**: Implement the perceptron from scratch and using a framework (e.g., Scikit-learn)"
      ],
      "metadata": {
        "id": "BIvcWvJsN2De"
      }
    },
    {
      "cell_type": "code",
      "source": [
        "# Preprocessing: Keep relevant columns and handle missing values\n",
        "data = data[['Pclass', 'Sex', 'Age', 'Fare', 'Survived']].copy()\n",
        "\n",
        "# Fill missing values for 'Age' and 'Fare'\n",
        "data['Age'] = data['Age'].fillna(data['Age'].mean())\n",
        "data['Fare'] = data['Fare'].fillna(data['Fare'].mean())\n",
        "\n",
        "# Convert categorical column 'Sex' to numerical\n",
        "data['Sex'] = data['Sex'].map({'male': 0, 'female': 1})\n",
        "\n",
        "# Features (X) and target (y)\n",
        "X = data[['Pclass', 'Sex', 'Age', 'Fare']].values\n",
        "y = data['Survived'].values\n",
        "\n",
        "# Split the data\n",
        "from sklearn.model_selection import train_test_split\n",
        "X_train, X_test, y_train, y_test = train_test_split(X, y, test_size=0.2, random_state=42)\n",
        "\n",
        "# Ensure no NaN values in training and testing sets\n",
        "X_train = np.nan_to_num(X_train)\n",
        "X_test = np.nan_to_num(X_test)\n",
        "\n",
        "# Train the Perceptron\n",
        "from sklearn.linear_model import Perceptron\n",
        "clf = Perceptron(max_iter=1000, eta0=0.01, random_state=42)\n",
        "\n",
        "# Fit the model\n",
        "clf.fit(X_train, y_train)\n",
        "\n",
        "# Predictions\n",
        "from sklearn.metrics import accuracy_score\n",
        "y_pred_sklearn = clf.predict(X_test)\n",
        "print(\"Scikit-Learn Perceptron Accuracy:\", accuracy_score(y_test, y_pred_sklearn))\n"
      ],
      "metadata": {
        "colab": {
          "base_uri": "https://localhost:8080/"
        },
        "id": "TWtTCtwaN53D",
        "outputId": "69dcfc49-c154-4ade-d0ff-9b13a405712d"
      },
      "execution_count": null,
      "outputs": [
        {
          "output_type": "stream",
          "name": "stdout",
          "text": [
            "Scikit-Learn Perceptron Accuracy: 0.6536312849162011\n"
          ]
        }
      ]
    },
    {
      "cell_type": "markdown",
      "source": [
        "\n",
        "**Step 6:**: For tracking the progress of perceptron model during training, we can visualize how  total number of errors reduce with each iteration"
      ],
      "metadata": {
        "id": "8XC8t_QIOBMe"
      }
    },
    {
      "cell_type": "code",
      "source": [
        "# Visualize training errors\n",
        "\n",
        "plt.plot(range(len(model.errors)), model.errors)\n",
        "plt.xlabel(\"Iterations\")\n",
        "plt.ylabel(\"Total Errors\")\n",
        "plt.title(\"Error Reduction Over Iterations\")\n",
        "plt.show()"
      ],
      "metadata": {
        "colab": {
          "base_uri": "https://localhost:8080/",
          "height": 472
        },
        "id": "Wrvl4hEdOPEP",
        "outputId": "fdf9e970-7d1c-4135-948b-94ed9341ae65"
      },
      "execution_count": null,
      "outputs": [
        {
          "output_type": "display_data",
          "data": {
            "text/plain": [
              "<Figure size 640x480 with 1 Axes>"
            ],
            "image/png": "[encoded data removed]"
          },
          "metadata": {}
        }
      ]
    },
    {
      "cell_type": "markdown",
      "source": [
        "**Limitations of the Perceptron**\n",
        "\n",
        "1. **Inability to Handle Non-Linearly Separable Data:** The Perceptron fails if the data is not linearly separable and cannot converge to a solution. For example, it cannot solve the XOR problem.\n",
        "\n",
        "2. **No Probabilistic Output:** The Perceptron provides only binary outputs (0 or 1) and does not give the probability of belonging to a class.\n",
        "\n",
        "3.  **Sensitive to Learning Rate:** A poorly chosen learning rate η can lead to slow convergence or divergence.\n",
        "\n",
        "4. **Single-Layer Architecture:** The basic Perceptron cannot handle more complex problems involving multiple layers."
      ],
      "metadata": {
        "id": "LX0pI4pGO7eM"
      }
    },
    {
      "cell_type": "markdown",
      "source": [
        "**Observations**\n",
        "\n",
        "**Good Performance for Logical Models:**\n",
        "\n",
        "1. Predicted labels align with expectations for logic gates (AND/OR).\n",
        "\n",
        "2. Accuracy metrics reflect strong model training on simple logic datasets.\n",
        "\n",
        "**Challenges with Missing Data:**\n",
        "\n",
        "1. Titanic dataset has significant missing values in Age and Cabin.\n",
        "\n",
        "2. Addressing these gaps is critical for downstream analysis.\n",
        "\n",
        "**Perceptron Model Accuracy:**\n",
        "\n",
        "1. Accuracy differences between manual and Scikit-Learn implementations, Potential variations in hyperparameter settings or convergence criteria.\n",
        "\n",
        "2. Highlights the need for parameter tuning in pre-built models.\n",
        "\n",
        "**Imbalance in Accuracy:**\n",
        "\n",
        "1. Logical problems yielded very high accuracy.\n",
        "\n",
        "2. Perceptron results for more complex datasets underperformed, indicating possible overfitting or poor generalization.\n",
        "\n",
        "**Visualization Insights:**\n",
        "\n",
        "1. Plots might demonstrate decision boundaries or distribution of features."
      ],
      "metadata": {
        "id": "1JuKzXVZPOXS"
      }
    },
    {
      "cell_type": "code",
      "source": [],
      "metadata": {
        "id": "9XDpspXsPNvY"
      },
      "execution_count": null,
      "outputs": []
    }
  ]
}