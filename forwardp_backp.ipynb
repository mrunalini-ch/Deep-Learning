{
  "nbformat": 4,
  "nbformat_minor": 0,
  "metadata": {
    "colab": {
      "provenance": [],
      "authorship_tag": "ABX9TyOlc3t5022KLlmB4LuM9gTP",
      "include_colab_link": true
    },
    "kernelspec": {
      "name": "python3",
      "display_name": "Python 3"
    },
    "language_info": {
      "name": "python"
    }
  },
  "cells": [
    {
      "cell_type": "markdown",
      "metadata": {
        "id": "view-in-github",
        "colab_type": "text"
      },
      "source": [
        "<a href=\"https://colab.research.google.com/github/mrunalini-ch/Deep-Learning/blob/main/forwardp_backp.ipynb\" target=\"_parent\"><img src=\"https://colab.research.google.com/assets/colab-badge.svg\" alt=\"Open In Colab\"/></a>"
      ]
    },
    {
      "cell_type": "markdown",
      "source": [
        "***Forward propagation and Backpropagation for 2-layer neuron manually(Experiment 5)***\n",
        "\n",
        "\n"
      ],
      "metadata": {
        "id": "4KfmC6MiJMiy"
      }
    },
    {
      "cell_type": "code",
      "execution_count": 27,
      "metadata": {
        "colab": {
          "base_uri": "https://localhost:8080/"
        },
        "id": "SHTkqpV3G4i0",
        "outputId": "68c565b8-7814-4ab7-c18f-38ad5b9fc778"
      },
      "outputs": [
        {
          "output_type": "stream",
          "name": "stdout",
          "text": [
            "Index(['Survived', 'Pclass', 'Name', 'Sex', 'Age', 'Siblings/Spouses Aboard',\n",
            "       'Parents/Children Aboard', 'Fare'],\n",
            "      dtype='object')\n",
            "Epoch 1000/10000, Loss: 0.127127\n",
            "Epoch 2000/10000, Loss: 0.124988\n",
            "Epoch 3000/10000, Loss: 0.118382\n",
            "Epoch 4000/10000, Loss: 0.115670\n",
            "Epoch 5000/10000, Loss: 0.114597\n",
            "Epoch 6000/10000, Loss: 0.114044\n",
            "Epoch 7000/10000, Loss: 0.113695\n",
            "Epoch 8000/10000, Loss: 0.113441\n",
            "Epoch 9000/10000, Loss: 0.113241\n",
            "Epoch 10000/10000, Loss: 0.113076\n",
            "\n",
            "Accuracy on Test Set: 0.7809\n",
            "\n",
            "Predictions on Test Set:\n",
            "   Actual  Predicted\n",
            "0       1          0\n",
            "1       0          0\n",
            "2       0          0\n",
            "3       1          0\n",
            "4       0          0\n"
          ]
        }
      ],
      "source": [
        "import numpy as np\n",
        "import pandas as pd\n",
        "from sklearn.model_selection import train_test_split\n",
        "from sklearn.preprocessing import StandardScaler\n",
        "\n",
        "# Load Titanic dataset from URL\n",
        "url = \"https://web.stanford.edu/class/archive/cs/cs109/cs109.1166/stuff/titanic.csv\"\n",
        "data = pd.read_csv(url)\n",
        "\n",
        "# Data Preprocessing (Handle missing values, categorical data, etc.)\n",
        "print(data.columns)\n",
        "# Drop columns that aren't useful for training\n",
        "data = data.drop(columns=['Name', 'Siblings/Spouses Aboard',\n",
        "       'Parents/Children Aboard'])\n",
        "\n",
        "# Convert categorical 'Sex' to numerical\n",
        "data['Sex'] = data['Sex'].map({'male': 0, 'female': 1})\n",
        "\n",
        "# Fill missing values with the mean for simplicity\n",
        "data['Age'] = data['Age'].fillna(data['Age'].mean())\n",
        "data['Fare'] = data['Fare'].fillna(data['Fare'].mean())\n",
        "\n",
        "# Separate features (X) and target (y)\n",
        "X = data[['Pclass', 'Sex', 'Age', 'Fare']].values  # Features (4 input columns)\n",
        "y = data['Survived'].values.reshape(-1, 1)  # Target (Survived column)\n",
        "\n",
        "# Normalize features\n",
        "scaler = StandardScaler()\n",
        "X = scaler.fit_transform(X)\n",
        "\n",
        "# Split into training and testing sets\n",
        "X_train, X_test, y_train, y_test = train_test_split(X, y, test_size=0.2, random_state=42)\n",
        "\n",
        "# Initialize parameters for the neural network\n",
        "np.random.seed(42)\n",
        "input_size = X_train.shape[1]  # Number of features (4)\n",
        "hidden_size = 5  # Number of hidden neurons\n",
        "output_size = 1  # Binary classification (0 or 1)\n",
        "\n",
        "# Initialize weights and biases\n",
        "weights_input_hidden = np.random.rand(input_size, hidden_size)  # Weights from input to hidden layer\n",
        "weights_hidden_output = np.random.rand(hidden_size, output_size)  # Weights from hidden to output layer\n",
        "bias_hidden = np.random.rand(1, hidden_size)  # Bias for hidden layer\n",
        "bias_output = np.random.rand(1, output_size)  # Bias for output layer\n",
        "learning_rate = 0.01\n",
        "\n",
        "# Sigmoid activation function and its derivative\n",
        "def sigmoid(x):\n",
        "    return 1 / (1 + np.exp(-x))\n",
        "\n",
        "def sigmoid_derivative(x):\n",
        "    return x * (1 - x)\n",
        "\n",
        "# Training loop\n",
        "epochs = 10000\n",
        "for epoch in range(epochs):\n",
        "    # Forward pass\n",
        "    hidden_input = np.dot(X_train, weights_input_hidden) + bias_hidden\n",
        "    hidden_output = sigmoid(hidden_input)\n",
        "\n",
        "    final_input = np.dot(hidden_output, weights_hidden_output) + bias_output\n",
        "    final_output = sigmoid(final_input)\n",
        "\n",
        "    # Compute error\n",
        "    error = y_train - final_output\n",
        "\n",
        "    # Backpropagation\n",
        "    d_output = error * sigmoid_derivative(final_output)  # Derivative for output layer\n",
        "    error_hidden_layer = d_output.dot(weights_hidden_output.T)  # Error backpropagation to hidden layer\n",
        "    d_hidden = error_hidden_layer * sigmoid_derivative(hidden_output)  # Derivative for hidden layer\n",
        "\n",
        "    # Update weights and biases\n",
        "    weights_hidden_output += hidden_output.T.dot(d_output) * learning_rate  # Update weights for hidden-output layer\n",
        "    bias_output += np.sum(d_output, axis=0, keepdims=True) * learning_rate  # Update bias for output layer\n",
        "\n",
        "    weights_input_hidden += X_train.T.dot(d_hidden) * learning_rate  # Update weights for input-hidden layer\n",
        "    bias_hidden += np.sum(d_hidden, axis=0, keepdims=True) * learning_rate  # Update bias for hidden layer\n",
        "\n",
        "    # Optional: print loss every 1000 epochs\n",
        "    if (epoch + 1) % 1000 == 0:\n",
        "        loss = np.mean(np.square(error))  # Mean squared error loss\n",
        "        print(f\"Epoch {epoch + 1}/{epochs}, Loss: {loss:.6f}\")\n",
        "\n",
        "# Testing\n",
        "hidden_input_test = np.dot(X_test, weights_input_hidden) + bias_hidden\n",
        "hidden_output_test = sigmoid(hidden_input_test)\n",
        "\n",
        "final_input_test = np.dot(hidden_output_test, weights_hidden_output) + bias_output\n",
        "final_output_test = sigmoid(final_input_test)\n",
        "\n",
        "# Threshold predictions\n",
        "y_pred_test = (final_output_test > 0.5).astype(int)\n",
        "\n",
        "# Calculate accuracy\n",
        "accuracy = np.mean(y_pred_test == y_test)\n",
        "print(f\"\\nAccuracy on Test Set: {accuracy:.4f}\")\n",
        "\n",
        "# Final predictions and comparison\n",
        "comparison = pd.DataFrame({'Actual': y_test.flatten(), 'Predicted': y_pred_test.flatten()})\n",
        "print(\"\\nPredictions on Test Set:\")\n",
        "print(comparison.head())\n"
      ]
    },
    {
      "cell_type": "markdown",
      "source": [],
      "metadata": {
        "id": "o5rh1ZXBJLhx"
      }
    }
  ]
}