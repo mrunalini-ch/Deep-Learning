{
  "nbformat": 4,
  "nbformat_minor": 0,
  "metadata": {
    "colab": {
      "provenance": [],
      "authorship_tag": "ABX9TyM8GqkBVM+xswOzVpacS0/F",
      "include_colab_link": true
    },
    "kernelspec": {
      "name": "python3",
      "display_name": "Python 3"
    },
    "language_info": {
      "name": "python"
    }
  },
  "cells": [
    {
      "cell_type": "markdown",
      "metadata": {
        "id": "view-in-github",
        "colab_type": "text"
      },
      "source": [
        "<a href=\"https://colab.research.google.com/github/mrunalini-ch/Deep-Learning/blob/main/Single_artificialneuron.ipynb\" target=\"_parent\"><img src=\"https://colab.research.google.com/assets/colab-badge.svg\" alt=\"Open In Colab\"/></a>"
      ]
    },
    {
      "cell_type": "markdown",
      "source": [
        "***Implementation of a single artificial neuron.(Experiment 1)***\n",
        "\n",
        "**key features**\n",
        "\n",
        "1. includes step activation function\n",
        "2. OR gate training data\n",
        "3. weights and bias\n",
        "4. outputs predictions\n"
      ],
      "metadata": {
        "id": "4KfmC6MiJMiy"
      }
    },
    {
      "cell_type": "code",
      "execution_count": 11,
      "metadata": {
        "colab": {
          "base_uri": "https://localhost:8080/"
        },
        "id": "SHTkqpV3G4i0",
        "outputId": "8b869f18-3c0e-4569-e09c-664c6c2e6714"
      },
      "outputs": [
        {
          "output_type": "stream",
          "name": "stdout",
          "text": [
            "Weights: [1 1]\n",
            "Bias: -0.5\n",
            "Predictions: [0, 1, 1, 1]\n",
            "Targets: [0 1 1 1]\n"
          ]
        }
      ],
      "source": [
        "import numpy as np\n",
        "\n",
        "#OR gate\n",
        "inputs = np.array([[0, 0], [0, 1], [1, 0], [1, 1]])\n",
        "targets = np.array([0, 1, 1, 1])\n",
        "\n",
        "# w and b\n",
        "weights = np.array([1, 1])\n",
        "bias = -0.5\n",
        "\n",
        "#step af\n",
        "def step_function(x):\n",
        "    return 1 if x >= 0 else 0\n",
        "\n",
        "#neuron\n",
        "def single_neuron(inputs, weights, bias):\n",
        "    outputs = []\n",
        "    for x in inputs:\n",
        "        z = np.dot(x, weights) + bias\n",
        "        y_pred = step_function(z)\n",
        "        outputs.append(y_pred)\n",
        "    return outputs\n",
        "\n",
        "# Output predictions\n",
        "predictions = single_neuron(inputs, weights, bias)\n",
        "\n",
        "print(\"Weights:\", weights)\n",
        "print(\"Bias:\", bias)\n",
        "print(\"Predictions:\", predictions)\n",
        "print(\"Targets:\", targets)\n"
      ]
    },
    {
      "cell_type": "markdown",
      "source": [],
      "metadata": {
        "id": "o5rh1ZXBJLhx"
      }
    }
  ]
}